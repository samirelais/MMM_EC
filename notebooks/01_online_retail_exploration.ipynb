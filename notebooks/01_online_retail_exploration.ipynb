{
 "cells": [
  {
   "cell_type": "markdown",
   "metadata": {},
   "source": [
    "# Exploration des données Online Retail\n",
    "\n",
    "Ce notebook explore le jeu de données Online Retail disponible sur Kaggle pour la modélisation MMM."
   ]
  },
  {
   "cell_type": "code",
   "execution_count": null,
   "metadata": {},
   "outputs": [],
   "source": [
    "# Importer les bibliothèques nécessaires\n",
    "import pandas as pd\n",
    "import numpy as np\n",
    "import matplotlib.pyplot as plt\n",
    "import seaborn as sns\n",
    "from pyspark.sql import SparkSession\n",
    "import os\n",
    "import sys\n",
    "\n",
    "# Configuration de Matplotlib\n",
    "plt.style.use('seaborn-whitegrid')\n",
    "plt.rcParams['figure.figsize'] = (12, 7)\n",
    "plt.rcParams['font.size'] = 12\n",
    "\n",
    "# Ajouter le répertoire parent au chemin Python\n",
    "sys.path.append('..')"
   ]
  },
  {
   "cell_type": "code",
   "execution_count": null,
   "metadata": {},
   "outputs": [],
   "source": [
    "# Initialiser une session Spark\n",
    "spark = SparkSession.builder \\\n",
    "    .appName(\"online_retail_exploration\") \\\n",
    "    .config(\"spark.driver.memory\", \"4g\") \\\n",
    "    .getOrCreate()\n",
    "\n",
    "print(f\"Spark version: {spark.version}\")"
   ]
  },
  {
   "cell_type": "code",
   "execution_count": null,
   "metadata": {},
   "outputs": [],
   "source": [
    "# Charger les données\n",
    "retail_path = \"../data/online_retail.csv\"\n",
    "retail_df = spark.read.csv(retail_path, header=True, inferSchema=True)\n",
    "\n",
    "# Afficher le schéma\n",
    "print(\"Schéma des données:\")\n",
    "retail_df.printSchema()\n",
    "\n",
    "# Aperçu des données\n",
    "print(\"\\nAperçu des données:\")\n",
    "retail_df.show(5)"
   ]
  },
  {
   "cell_type": "code",
   "execution_count": null,
   "metadata": {},
   "outputs": [],
   "source": [
    "# Statistiques descriptives\n",
    "print(\"Statistiques descriptives:\")\n",
    "retail_df.describe().show()"
   ]
  },
  {
   "cell_type": "code",
   "execution_count": null,
   "metadata": {},
   "outputs": [],
   "source": [
    "# Convertir en pandas pour l'analyse exploratoire\n",
    "pandas_df = retail_df.toPandas()\n",
    "pandas_df['InvoiceDate'] = pd.to_datetime(pandas_df['InvoiceDate'])\n",
    "\n",
    "# Examiner les valeurs nulles\n",
    "print(\"Valeurs manquantes par colonne:\")\n",
    "print(pandas_df.isnull().sum())"
   ]
  },
  {
   "cell_type": "code",
   "execution_count": null,
   "metadata": {},
   "outputs": [],
   "source": [
    "# Calculer le montant total par transaction\n",
    "pandas_df['TotalAmount'] = pandas_df['Quantity'] * pandas_df['UnitPrice']\n",
    "\n",
    "# Distribution du montant total\n",
    "plt.figure(figsize=(10, 6))\n",
    "sns.histplot(pandas_df['TotalAmount'].clip(0, 1000), bins=50)\n",
    "plt.title('Distribution des montants de transaction (écrêté à 1000)')\n",
    "plt.xlabel('Montant total (£)')\n",
    "plt.ylabel('Fréquence')\n",
    "plt.show()"
   ]
  },
  {
   "cell_type": "code",
   "execution_count": null,
   "metadata": {},
   "outputs": [],
   "source": [
    "# Analyser les ventes quotidiennes\n",
    "daily_sales = pandas_df.groupby(pandas_df['InvoiceDate'].dt.date).agg(\n",
    "    revenue=('TotalAmount', 'sum'),\n",
    "    transactions=('InvoiceNo', 'nunique'),\n",
    "    unique_customers=('CustomerID', 'nunique')\n",
    ").reset_index()\n",
    "\n",
    "# Tracer les ventes quotidiennes\n",
    "plt.figure(figsize=(14, 7))\n",
    "plt.plot(daily_sales['InvoiceDate'], daily_sales['revenue'])\n",
    "plt.title('Chiffre d\\'affaires quotidien')\n",
    "plt.xlabel('Date')\n",
    "plt.ylabel('Chiffre d\\'affaires (£)')\n",
    "plt.grid(True)\n",
    "plt.xticks(rotation=45)\n",
    "plt.tight_layout()\n",
    "plt.show()"
   ]
  },
  {
   "cell_type": "code",
   "execution_count": null,
   "metadata": {},
   "outputs": [],
   "source": [
    "# Analyser les ventes par pays\n",
    "country_sales = pandas_df.groupby('Country').agg(\n",
    "    revenue=('TotalAmount', 'sum'),\n",
    "    transactions=('InvoiceNo', 'nunique'),\n",
    "    unique_customers=('CustomerID', 'nunique')\n",
    ").reset_index().sort_values('revenue', ascending=False)\n",
    "\n",
    "plt.figure(figsize=(12, 6))\n",
    "sns.barplot(x='revenue', y='Country', data=country_sales.head(10))\n",
    "plt.title('Chiffre d\\'affaires par pays (top 10)')\n",
    "plt.xlabel('Chiffre d\\'affaires (£)')\n",
    "plt.ylabel('Pays')\n",
    "plt.show()"
   ]
  },
  {
   "cell_type": "code",
   "execution_count": null,
   "metadata": {},
   "outputs": [],
   "source": [
    "# Analyser les patterns hebdomadaires\n",
    "pandas_df['DayOfWeek'] = pandas_df['InvoiceDate'].dt.day_name()\n",
    "day_order = ['Monday', 'Tuesday', 'Wednesday', 'Thursday', 'Friday', 'Saturday', 'Sunday']\n",
    "\n",
    "weekly_sales = pandas_df.groupby('DayOfWeek').agg(\n",
    "    revenue=('TotalAmount', 'sum'),\n",
    "    transactions=('InvoiceNo', 'nunique')\n",
    ").reindex(day_order).reset_index()\n",
    "\n",
    "plt.figure(figsize=(12, 6))\n",
    "sns.barplot(x='DayOfWeek', y='revenue', data=weekly_sales)\n",
    "plt.title('Chiffre d\\'affaires par jour de la semaine')\n",
    "plt.xlabel('Jour de la semaine')\n",
    "plt.ylabel('Chiffre d\\'affaires (£)')\n",
    "plt.xticks(rotation=45)\n",
    "plt.show()"
   ]
  },
  {
   "cell_type": "code",
   "execution_count": null,
   "metadata": {},
   "outputs": [],
   "source": [
    "# Analyser les patterns mensuels\n",
    "pandas_df['Month'] = pandas_df['InvoiceDate'].dt.strftime('%Y-%m')\n",
    "monthly_sales = pandas_df.groupby('Month').agg(\n",
    "    revenue=('TotalAmount', 'sum'),\n",
    "    transactions=('InvoiceNo', 'nunique'),\n",
    "    unique_customers=('CustomerID', 'nunique')\n",
    ").reset_index()\n",
    "\n",
    "plt.figure(figsize=(14, 7))\n",
    "sns.barplot(x='Month', y='revenue', data=monthly_sales)\n",
    "plt.title('Chiffre d\\'affaires mensuel')\n",
    "plt.xlabel('Mois')\n",
    "plt.ylabel('Chiffre d\\'affaires (£)')\n",
    "plt.xticks(rotation=45)\n",
    "plt.show()"
   ]
  },
  {
   "cell_type": "code",
   "execution_count": null,
   "metadata": {},
   "outputs": [],
   "source": [
    "# Analyser les retours (quantities < 0)\n",
    "returns_df = pandas_df[pandas_df['Quantity'] < 0]\n",
    "print(f\"Nombre de lignes avec des quantités négatives (retours): {len(returns_df)}\")\n",
    "print(f\"Pourcentage des transactions qui sont des retours: {len(returns_df)/len(pandas_df)*100:.2f}%\")"
   ]
  },
  {
   "cell_type": "code",
   "execution_count": null,
   "metadata": {},
   "outputs": [],
   "source": [
    "# Top produits par chiffre d'affaires\n",
    "product_sales = pandas_df.groupby('Description').agg(\n",
    "    revenue=('TotalAmount', 'sum'),\n",
    "    quantity=('Quantity', 'sum'),\n",
    "    transactions=('InvoiceNo', 'nunique')\n",
    ").reset_index().sort_values('revenue', ascending=False)\n",
    "\n",
    "plt.figure(figsize=(12, 8))\n",
    "sns.barplot(x='revenue', y='Description', data=product_sales.head(15))\n",
    "plt.title('Top 15 produits par chiffre d\\'affaires')\n",
    "plt.xlabel('Chiffre d\\'affaires (£)')\n",
    "plt.ylabel('Produit')\n",
    "plt.tight_layout()\n",
    "plt.show()"
   ]
  },
  {
   "cell_type": "code",
   "execution_count": null,
   "metadata": {},
   "outputs": [],
   "source": [
    "# Décomposer les ventes par heure de la journée\n",
    "pandas_df['Hour'] = pandas_df['InvoiceDate'].dt.hour\n",
    "hourly_sales = pandas_df.groupby('Hour').agg(\n",
    "    revenue=('TotalAmount', 'sum'),\n",
    "    transactions=('InvoiceNo', 'nunique')\n",
    ").reset_index()\n",
    "\n",
    "plt.figure(figsize=(12, 6))\n",
    "sns.barplot(x='Hour', y='revenue', data=hourly_sales)\n",
    "plt.title('Chiffre d\\'affaires par heure de la journée')\n",
    "plt.xlabel('Heure')\n",
    "plt.ylabel('Chiffre d\\'affaires (£)')\n",
    "plt.xticks(range(24))\n",
    "plt.show()"
   ]
  },
  {
   "cell_type": "code",
   "execution_count": null,
   "metadata": {},
   "outputs": [],
   "source": [
    "# Analyser la fréquence d'achat des clients\n",
    "customer_frequency = pandas_df.groupby('CustomerID').agg(\n",
    "    num_transactions=('InvoiceNo', 'nunique'),\n",
    "    total_spend=('TotalAmount', 'sum'),\n",
    "    first_purchase=('InvoiceDate', 'min'),\n",
    "    last_purchase=('InvoiceDate', 'max')\n",
    ").reset_index()\n",
    "\n",
    "customer_frequency['days_between_purchases'] = (customer_frequency['last_purchase'] - customer_frequency['first_purchase']).dt.days\n",
    "\n",
    "plt.figure(figsize=(12, 6))\n",
    "sns.histplot(customer_frequency['num_transactions'].clip(0, 20), bins=20)\n",
    "plt.title('Distribution du nombre de transactions par client')\n",
    "plt.xlabel('Nombre de transactions')\n",
    "plt.ylabel('Nombre de clients')\n",
    "plt.show()"
   ]
  },
  {
   "cell_type": "code",
   "execution_count": null,
   "metadata": {},
   "outputs": [],
   "source": [
    "# Identifier les clients les plus fidèles\n",
    "top_customers = customer_frequency.sort_values('total_spend', ascending=False).head(10)\n",
    "\n",
    "plt.figure(figsize=(12, 6))\n",
    "sns.barplot(x='total_spend', y='CustomerID', data=top_customers)\n",
    "plt.title('Top 10 des clients les plus fidèles par chiffre d\\'affaires')\n",
    "plt.xlabel('Chiffre d\\'affaires total (£)')\n",
    "plt.ylabel('ID du client')\n",
    "plt.show()"
   ]
  },
  {
   "cell_type": "markdown",
   "metadata": {},
   "source": [
    "## Conclusion\n",
    "\n",
    "Dans ce notebook, nous avons exploré plusieurs aspects des données de l'Online Retail dataset, tels que les ventes quotidiennes, hebdomadaires, mensuelles, ainsi que l'analyse des retours, des clients les plus fidèles, des produits les plus populaires, et plus encore. Cette exploration a permis d'obtenir une vue d'ensemble sur les tendances de vente et les comportements des clients, qui pourront être utilisés pour des analyses plus approfondies et des modèles prédictifs."
   ]
  }
 ],
 "metadata": {
  "kernelspec": {
   "display_name": "Python 3",
   "language": "python",
   "name": "python3"
  },
  "language_info": {
   "codemirror_mode": {
    "name": "ipython",
    "version": 3
   },
   "file_extension": ".py",
   "mimetype": "text/x-python",
   "name": "python",
   "nbconvert_exporter": "python",
   "version": "3.8.5"
  }
 },
 "nbformat": 4,
 "nbformat_minor": 5
}
