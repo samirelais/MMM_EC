{
"cells": [
 {
  "cell_type": "markdown",
  "metadata": {},
  "source": [
   "# Modélisation et Évaluation du Marketing Mix Model\n",
   "\n",
   "Ce notebook présente l'entraînement, l'évaluation et l'interprétation du modèle MMM pour optimiser les allocations budgétaires marketing."
  ]
 },
 {
  "cell_type": "code",
  "execution_count": null,
  "metadata": {},
  "source": [
   "# Importer les bibliothèques nécessaires\n",
   "import pandas as pd\n",
   "import numpy as np\n",
   "import matplotlib.pyplot as plt\n",
   "import seaborn as sns\n",
   "from pyspark.sql import SparkSession\n",
   "import os\n",
   "import sys\n",
   "import json\n",
   "\n",
   "# Configuration de Matplotlib\n",
   "plt.style.use('seaborn-whitegrid')\n",
   "plt.rcParams['figure.figsize'] = (12, 7)\n",
   "plt.rcParams['font.size'] = 12\n",
   "\n",
   "# Ajouter le répertoire parent au chemin Python\n",
   "sys.path.append('..')"
  ]
 },
 {
  "cell_type": "code",
  "execution_count": null,
  "metadata": {},
  "source": [
   "# Initialiser une session Spark\n",
   "spark = SparkSession.builder \\\n",
   "    .appName(\"mmm_modeling\") \\\n",
   "    .config(\"spark.driver.memory\", \"4g\") \\\n",
   "    .getOrCreate()\n",
   "\n",
   "print(f\"Spark version: {spark.version}\")"
  ]
 },
 {
  "cell_type": "markdown",
  "metadata": {},
  "source": [
   "## 1. Chargement des données prétraitées"
  ]
 },
 {
  "cell_type": "code",
  "execution_count": null,
  "metadata": {},
  "source": [
   "# Charger la configuration\n",
   "with open(\"../config/online_retail_config.json\", \"r\") as f:\n",
   "    config = json.load(f)\n",
   "\n",
   "# Charger les données d'entraînement et de test\n",
   "train_df = spark.read.parquet(\"../data/train_data.parquet\")\n",
   "test_df = spark.read.parquet(\"../data/test_data.parquet\")\n",
   "\n",
   "print(f\"Ensemble d'entraînement: {train_df.count()} lignes, {len(train_df.columns)} colonnes\")\n",
   "print(f\"Ensemble de test: {test_df.count()} lignes, {len(test_df.columns)} colonnes\")\n",
   "\n",
   "# Afficher un aperçu\n",
   "print(\"\\nAperçu des données d'entraînement:\")\n",
   "train_df.select([\"date\", \"revenue\"] + config[\"marketing_channels\"]).show(5)"
  ]
 },
 {
  "cell_type": "markdown",
  "metadata": {},
  "source": [
   "## 2. Entraînement du modèle MMM"
  ]
 },
 {
  "cell_type": "code",
  "execution_count": null,
  "metadata": {},
  "source": [
   "from src.models.mmm_model import MMMModel\n",
   "\n",
   "# Initialiser le modèle MMM\n",
   "mmm_model = MMMModel(spark, \"../config/online_retail_config.json\")\n",
   "\n",
   "# Entraîner le modèle\n",
   "print(\"Entraînement du modèle MMM...\")\n",
   "model, feature_importances = mmm_model.train_model(train_df)\n",
   "\n",
   "# Afficher les importances des caractéristiques\n",
   "print(\"\\nTop 20 des caractéristiques les plus importantes:\")\n",
   "print(feature_importances.head(20))\n",
   "\n",
   "# Visualiser les importances\n",
   "plt.figure(figsize=(12, 10))\n",
   "sns.barplot(x='importance', y='feature', data=feature_importances.head(20))\n",
   "plt.title('Top 20 des caractéristiques les plus importantes')\n",
   "plt.xlabel('Importance')\n",
   "plt.ylabel('Caractéristique')\n",
   "plt.tight_layout()\n",
   "plt.show()"
  ]
 },
 {
  "cell_type": "markdown",
  "metadata": {},
  "source": [
   "## 3. Évaluation du modèle"
  ]
 },
 {
  "cell_type": "code",
  "execution_count": null,
  "metadata": {},
  "source": [
   "# Évaluer le modèle\n",
   "print(\"Évaluation du modèle sur l'ensemble de test...\")\n",
   "metrics = mmm_model.evaluate_model(model, test_df)\n",
   "\n",
   "# Afficher les métriques\n",
   "print(\"\\nMétriques d'évaluation:\")\n",
   "for metric, value in metrics.items():\n",
   "    print(f\"{metric}: {value:.4f}\")\n",
   "\n",
   "# Préparer les données pour visualiser les prédictions\n",
   "X_test, y_test = mmm_model.prepare_training_data(test_df)\n",
   "y_pred = model.predict(X_test)\n",
   "\n",
   "# Tracer les prédictions vs réalité\n",
   "test_dates = test_df.select(\"date\").toPandas()[\"date\"]\n",
   "result_df = pd.DataFrame({\n",
   "    \"date\": test_dates,\n",
   "    \"actual\": y_test,\n",
   "    \"predicted\": y_pred\n",
   "})\n",
   "result_df = result_df.sort_values(\"date\")\n",
   "\n",
   "plt.figure(figsize=(14, 7))\n",
   "plt.plot(result_df[\"date\"], result_df[\"actual\"], 'b-', label='Ventes réelles')\n",
   "plt.plot(result_df[\"date\"], result_df[\"predicted\"], 'r-', label='Ventes prédites')\n",
   "plt.title('Ventes réelles vs. prédites sur l\\'ensemble de test')\n",
   "plt.xlabel('Date')\n",
   "plt.ylabel('Ventes (£)')\n",
   "plt.legend()\n",
   "plt.grid(True)\n",
   "plt.xticks(rotation=45)\n",
   "plt.tight_layout()\n",
   "plt.show()\n",
   "\n",
   "# Tracer un diagramme de dispersion\n",
   "plt.figure(figsize=(10, 8))\n",
   "plt.scatter(y_test, y_pred, alpha=0.5)\n",
   "plt.plot([y_test.min(), y_test.max()], [y_test.min(), y_test.max()], 'k--', lw=2)\n",
   "plt.xlabel('Ventes réelles (£)')\n",
   "plt.ylabel('Ventes prédites (£)')\n",
   "plt.title('Diagramme de dispersion: ventes réelles vs. prédites')\n",
   "plt.grid(True)\n",
   "plt.tight_layout()\n",
   "plt.show()"
  ]
 },
 {
  "cell_type": "markdown",
  "metadata": {},
  "source": [
   "## 4. Analyse des contributions des canaux"
  ]
 },
 {
  "cell_type": "code",
  "execution_count": null,
  "metadata": {},
  "source": [
   "# Calculer les contributions des canaux\n",
   "print(\"Calcul des contributions des canaux...\")\n",
   "full_df = spark.read.parquet(\"../data/mmm_features.parquet\")\n",
   "contributions_df = mmm_model.calculate_channel_contributions(model, full_df)\n",
   "\n",
   "# Sauvegarder les contributions pour une utilisation ultérieure\n",
   "contributions_df.to_csv(\"../reports/channel_contributions.csv\", index=False)\n",
   "print(\"Contributions sauvegardées dans ../reports/channel_contributions.csv\")\n",
   "\n",
   "# Calculer les contributions moyennes\n",
   "channel_contribs = {}\n",
   "channel_contribs['baseline'] = contributions_df['baseline_contribution'].mean()\n",
   "\n",
   "for channel in config['marketing_channels']:\n",
   "    contrib_col = f\"{channel}_contribution\"\n",
   "    if contrib_col in contributions_df.columns:\n",
   "        channel_contribs[channel] = contributions_df[contrib_col].mean()\n",
   "\n",
   "# Créer un DataFrame pour le graphique\n",
   "contrib_df = pd.DataFrame({\n",
   "    'channel': list(channel_contribs.keys()),\n",
   "    'contribution': list(channel_contribs.values()),\n",
   "    'contribution_pct': [v / contributions_df['predicted_revenue'].mean() * 100 for v in channel_contribs.values()]\n",
   "}).sort_values('contribution', ascending=False)\n",
   "\n",
   "# Afficher les contributions\n",
   "print(\"\\nContributions moyennes par canal:\")\n",
   "print(contrib_df)\n",
   "\n",
   "# Visualiser les contributions\n",
   "plt.figure(figsize=(12, 6))\n",
   "sns.barplot(x='channel', y='contribution', data=contrib_df)\n",
   "plt.title('Contribution moyenne par canal marketing')\n",
   "plt.xlabel('Canal')\n",
   "plt.ylabel('Contribution aux ventes (£)')\n",
   "plt.xticks(rotation=45)\n",
   "plt.tight_layout()\n",
   "plt.show()\n",
   "\n",
   "# Graphique en camembert des pourcentages\n",
   "plt.figure(figsize=(10, 10))\n",
   "plt.pie(contrib_df['contribution_pct'], labels=contrib_df['channel'], autopct='%1.1f%%', startangle=90)\n",
   "plt.axis('equal')\n",
   "plt.title('Répartition des contributions (%)')\n",
   "plt.tight_layout()\n",
   "plt.show()"
  ]
 },
 {
  "cell_type": "markdown",
  "metadata": {},
  "source": [
   "## 5. Analyse du ROI par canal"
  ]
 },
 {
  "cell_type": "code",
  "execution_count": null,
  "metadata": {},
  "source": [
   "# Calculer le ROI médian par canal\n",
   "roi_data = {}\n",
   "for channel in config['marketing_channels']:\n",
   "    roi_col = f\"{channel}_roi\"\n",
   "    if roi_col in contributions_df.columns:\n",
   "        roi_data[channel] = contributions_df[roi_col].median()\n",
   "\n",
   "# Créer un DataFrame pour le graphique\n",
   "roi_df = pd.DataFrame({\n",
   "    'channel': list(roi_data.keys()),\n",
   "    'roi': list(roi_data.values())\n",
   "}).sort_values('roi', ascending=False)\n",
   "\n",
   "# Afficher le ROI\n",
   "print(\"\\nROI médian par canal:\")\n",
   "print(roi_df)\n",
   "\n",
   "# Visualiser le ROI\n",
   "plt.figure(figsize=(12, 6))\n",
   "sns.barplot(x='channel', y='roi', data=roi_df)\n",
   "plt.title('ROI médian par canal marketing')\n",
   "plt.xlabel('Canal')\n",
   "plt.ylabel('ROI (£ générés par £ dépensée)')\n",
   "plt.xticks(rotation=45)\n",
   "plt.tight_layout()\n",
   "plt.show()"
  ]
 },
 {
  "cell_type": "markdown",
  "metadata": {},
  "source": [
   "## 6. Optimisation de l'allocation budgétaire"
  ]
 },
 {
  "cell_type": "code",
  "execution_count": null,
  "metadata": {},
  "source": [
   "# Optimiser l'allocation budgétaire\n",
   "print(\"Optimisation de l'allocation budgétaire...\")\n",
   "budget_allocation = mmm_model.optimize_budget(contributions_df)\n",
   "\n",
   "# Sauvegarder l'allocation\n",
   "budget_allocation.to_csv(\"../reports/budget_allocation.csv\", index=False)\n",
   "print(\"Allocation budgétaire sauvegardée dans ../reports/budget_allocation.csv\")\n",
   "\n",
   "# Afficher l'allocation\n",
   "print(\"\\nAllocation budgétaire optimisée:\")\n",
   "print(budget_allocation)\n",
   "\n",
   "# Visualiser l'allocation\n",
   "plt.figure(figsize=(12, 7))\n",
   "\n",
   "# Créer un graphique avec deux axes Y\n",
   "fig, ax1 = plt.subplots(figsize=(12, 7))\n",
   "\n",
   "# Premier axe pour le budget\n",
   "bars = ax1.bar(budget_allocation['channel'], budget_allocation['budget'], color='skyblue')\n",
   "ax1.set_xlabel('Canal')\n",
   "ax1.set_ylabel('Budget alloué (£)', color='skyblue')\n",
   "ax1.tick_params(axis='y', labelcolor='skyblue')\n",
   "\n",
   "# Ajouter les valeurs sur les barres\n",
   "for bar in bars:\n",
   "    height = bar.get_height()\n",
   "    ax1.text(bar.get_x() + bar.get_width()/2., height + 1000,\n",
   "            f'£{height:.0f}', ha='center', va='bottom', fontsize=10)\n",
   "\n",
   "# Deuxième axe pour le ROI\n",
   "ax2 = ax1.twinx()\n",
   "ax2.plot(budget_allocation['channel'], budget_allocation['roi'], 'ro-', linewidth=2, markersize=8)\n",
   "ax2.set_ylabel('ROI', color='r')\n",
   "ax2.tick_params(axis='y', labelcolor='r')\n",
   "\n",
   "plt.title('Allocation budgétaire optimisée et ROI par canal')\n",
   "plt.xticks(rotation=45)\n",
   "plt.tight_layout()\n",
   "plt.show()"
  ]
 },
 {
  "cell_type": "markdown",
  "metadata": {},
  "source": [
   "## 7. Analyse des contributions au fil du temps"
  ]
 },
 {
  "cell_type": "code",
  "execution_count": null,
  "metadata": {},
  "source": [
   "# Analyser l'évolution des contributions dans le temps\n",
   "print(\"Analyse des contributions au fil du temps...\")\n",
   "\n",
   "# Convertir la colonne date en datetime\n",
   "contributions_df['date'] = pd.to_datetime(contributions_df['date'])\n",
   "contributions_df = contributions_df.sort_values('date')\n",
   "\n",
   "# Créer un graphique des contributions au fil du temps\n",
   "plt.figure(figsize=(14, 8))\n",
   "\n",
   "# Tracer la contribution de base\n",
   "plt.plot(contributions_df['date'], contributions_df['baseline_contribution'], \n",
   "         label='Baseline', linewidth=2, color='gray')\n",
   "\n",
   "# Tracer les contributions par canal\n",
   "for channel in config['marketing_channels']:\n",
   "    contrib_col = f\"{channel}_contribution\"\n",
   "    if contrib_col in contributions_df.columns:\n",
   "        plt.plot(contributions_df['date'], contributions_df[contrib_col], \n",
   "                 label=channel, linewidth=2)\n",
   "\n",
   "plt.title('Évolution des contributions par canal au fil du temps')\n",
   "plt.xlabel('Date')\n",
   "plt.ylabel('Contribution (£)')\n",
   "plt.grid(True)\n",
   "plt.legend(loc='best')\n",
   "plt.xticks(rotation=45)\n",
   "plt.tight_layout()\n",
   "plt.show()\n",
   "\n",
   "# Créer un graphique empilé pour montrer la composition totale\n",
   "plt.figure(figsize=(14, 8))\n",
   "\n",
   "# Préparer les données\n",
   "channels = ['baseline'] + config['marketing_channels']\n",
   "contrib_cols = [f\"{ch}_contribution\" if ch != 'baseline' else 'baseline_contribution' \n",
   "               for ch in channels if f\"{ch}_contribution\" in contributions_df.columns \n",
   "               or ch == 'baseline']\n",
   "    \n",
   "# Créer le graphique empilé\n",
   "plt.stackplot(contributions_df['date'], \n",
   "              [contributions_df[col] for col in contrib_cols],\n",
   "              labels=[col.replace('_contribution', '') for col in contrib_cols])\n",
   "\n",
   "plt.title('Composition des ventes au fil du temps')\n",
   "plt.xlabel('Date')\n",
   "plt.ylabel('Ventes (£)')\n",
   "plt.grid(True)\n",
   "plt.legend(loc='upper left')\n",
   "plt.xticks(rotation=45)\n",
   "plt.tight_layout()\n",
   "plt.show()"
  ]
 },
 {
  "cell_type": "markdown",
  "metadata": {},
  "source": [
   "## 8. Génération d'un rapport complet"
  ]
 },
 {
  "cell_type": "code",
  "execution_count": null,
  "metadata": {},
  "source": [
   "from src.visualization.visualization import MMMVisualization\n",
   "\n",
   "# Initialiser la classe de visualisation\n",
   "visualizer = MMMVisualization(\"../config/online_retail_config.json\")\n",
   "\n",
   "# Sauvegarder les métriques\n",
   "with open(\"../reports/model_metrics.json\", \"w\") as f:\n",
   "    json.dump(metrics, f)\n",
   "\n",
   "# Générer le rapport\n",
   "print(\"Génération du rapport...\")\n",
   "report_path = visualizer.generate_report(\n",
   "    metrics, \n",
   "    contributions_df, \n",
   "    feature_importances, \n",
   "    budget_allocation\n",
   ")\n",
   "\n",
   "print(f\"Rapport généré: {report_path}\")\n",
   "print(\"\\nAnalyse MMM terminée ! Visualisez les résultats dans le dashboard Streamlit.\")"
  ]
 },
 {
  "cell_type": "code",
  "execution_count": null,
  "metadata": {},
  "source": [
   "# Arrêter la session Spark\n",
   "spark.stop()"
  ]
 }
],
"metadata": {
 "kernelspec": {
  "display_name": "Python 3",
  "language": "python",
  "name": "python3"
 },
 "language_info": {
  "codemirror_mode": {
   "name": "ipython",
   "version": 3
  },
  "file_extension": ".py",
  "mimetype": "text/x-python",
  "name": "python",
  "nbconvert_exporter": "python",
  "pygments_lexer": "ipython3",
  "version": "3.8.10"
 }
},
"nbformat": 4,
"nbformat_minor": 4
}
